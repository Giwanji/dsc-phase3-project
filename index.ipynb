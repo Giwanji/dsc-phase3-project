{
 "cells": [
  {
   "cell_type": "markdown",
   "metadata": {},
   "source": [
    "## <span style=\"color:red\"> PHASE 3 PROJECT SUBMISSION </span>\n",
    "| Student Pace             | Project Review Date  | Instructor Name     | Blog Post URL  |\n",
    "|--------------------------|--------------------------|---------------------|----------------|\n",
    "| `Part Time`                | `September 01st, 2024`      | `Josphat Njuguna Wanjiru`      | _https://github.com/leogachimu/Tanzania_Water_Wells_Classification/_               |\n",
    "\n",
    "**STUDENT NAME: JOSPHAT NJUGUNA WANJIRU**"
   ]
  },
  {
   "cell_type": "markdown",
   "metadata": {},
   "source": [
    "# <span style=\"color:red\"> ROAD CRASH CLASSIFICATION PROJECT </span>"
   ]
  },
  {
   "cell_type": "code",
   "execution_count": 22,
   "metadata": {},
   "outputs": [],
   "source": [
    "import pandas as pd\n",
    "df = pd.read_csv('./Terry_Stops_20240819.csv')\n"
   ]
  },
  {
   "cell_type": "code",
   "execution_count": 23,
   "metadata": {},
   "outputs": [],
   "source": [
    "df = pd.read_csv('./bigml_59c28831336c6604c800002a.csv')\n"
   ]
  },
  {
   "cell_type": "code",
   "execution_count": 26,
   "metadata": {},
   "outputs": [],
   "source": [
    "crashes_df = pd.read_csv('./Traffic_Crashes_-_Vehicles_20240829.csv')\n"
   ]
  },
  {
   "cell_type": "markdown",
   "metadata": {},
   "source": [
    "## <span style=\"color:red\"> DATA DESCRIPTION </span>\n",
    "\n",
    "### <span style=\"color:red\"> Traffic Crashes - Vehicles\n",
    "Rows 1.77M\n",
    "Columns 71\n",
    "Each row is a Vehicle\n",
    "\n",
    "This dataset contains information about vehicles (or units as they are identified in crash reports) involved in a traffic crash. This dataset should be used in conjunction with the traffic Crash and People dataset available in the portal. “Vehicle” information includes motor vehicle and non-motor vehicle modes of transportation, such as bicycles and pedestrians. Each mode of transportation involved in a crash is a “unit” and get one entry here. Each vehicle, each pedestrian, each motorcyclist, and each bicyclist is considered an independent unit that can have a trajectory separate from the other units. However, people inside a vehicle including the driver do not have a trajectory separate from the vehicle in which they are travelling and hence only the vehicle they are travelling in get any entry here. This type of identification of “units” is needed to determine how each movement affected the crash. Data for occupants who do not make up an independent unit, typically drivers and passengers, are available in the People table. Many of the fields are coded to denote the type and location of damage on the vehicle. Vehicle information can be linked back to Crash data using the “CRASH_RECORD_ID” field. Since this dataset is a combination of vehicles, pedestrians, and pedal cyclists not all columns are applicable to each record. Look at the Unit Type field to determine what additional data may be available for that record.\n",
    "\n",
    "The Chicago Police Department reports crashes on IL Traffic Crash Reporting form SR1050. The crash data published on the Chicago data portal mostly follows the data elements in SR1050 form. The current version of the SR1050 instructions manual with detailed information on each data elements is available here.\n",
    "\n",
    "This data contains information about people involved in a crash and if any injuries were sustained. This dataset should be used in combination with the traffic Crash and Vehicle dataset. Each record corresponds to an occupant in a vehicle listed in the Crash dataset. Some people involved in a crash may not have been an occupant in a motor vehicle, but may have been a pedestrian, bicyclist, or using another non-motor vehicle mode of transportation. Injuries reported are reported by the responding police officer. Fatalities that occur after the initial reports are typically updated in these records up to 30 days after the date of the crash. Person data can be linked with the Crash and Vehicle dataset using the “CRASH_RECORD_ID” field. A vehicle can have multiple occupants and hence have a one to many relationship between Vehicle and Person dataset. However, a pedestrian is a “unit” by itself and have a one to one relationship between the Vehicle and Person table.\n",
    "\n",
    "\n",
    "The Chicago Police Department reports crashes on IL Traffic Crash Reporting form SR1050. The crash data published on the Chicago data portal mostly follows the data elements in SR1050 form. The current version of the SR1050 instructions manual with detailed information on each data elements is available here.\n",
    "\n",
    "Change 11/21/2023: We have removed the RD_NO (Chicago Police Department report number) for privacy reasons."
   ]
  },
  {
   "cell_type": "markdown",
   "metadata": {},
   "source": [
    "### <span style=\"color:red\"> Traffic Crashes - People\n",
    "\n",
    "This data contains information about people involved in a crash and if any injuries were sustained. This dataset should be used in combination with the traffic Crash and Vehicle dataset. Each record corresponds to an occupant in a vehicle listed in the Crash dataset. Some people involved in a crash may not have been an occupant in a motor vehicle, but may have been a pedestrian, bicyclist, or using another non-motor vehicle mode of transportation. Injuries reported are reported by the responding police officer. Fatalities that occur after the initial reports are typically updated in these records up to 30 days after the date of the crash. Person data can be linked with the Crash and Vehicle dataset using the “CRASH_RECORD_ID” field. A vehicle can have multiple occupants and hence have a one to many relationship between Vehicle and Person dataset. However, a pedestrian is a “unit” by itself and have a one to one relationship between the Vehicle and Person table.\n",
    "\n",
    "\n",
    "Rows 1.9M\n",
    "Columns 29\n",
    "Each row is a Person\n",
    "\n",
    "| Field Name             | Description                                                                                  |\n",
    "|----------------------------|----------------------------------------------------------------------------------------------|\n",
    "| `zipcode`                  | ZIP Code of residence of person involved in crash                                            |\n",
    "| `vehicle_id`               | The corresponding CRASH_UNIT_ID from the Vehicles dataset.                                   |\n",
    "| `state`                    | State of residence of person involved in crash                                               |\n",
    "| `sex`                      | Gender of person involved in crash, as determined by reporting officer                       |\n",
    "| `seat_no`                  | Code for seating position of motor vehicle occupant: 1= driver, 2= center front, etc.        |\n",
    "| `safety_equipment`         | Safety equipment used by vehicle occupant in crash, if any                                   |\n",
    "| `physical_condition`       | Driver’s apparent physical condition at time of crash, as observed by the reporting officer  |\n",
    "| `person_type`              | Type of roadway user involved in crash                                                       |\n",
    "| `person_id`                | A unique identifier for each person record.                                                  |\n",
    "| `pedpedal_visibility`      | Visibility of pedestrian or cyclist safety equipment in use at time of crash                 |\n",
    "| `pedpedal_location`        | Location of pedestrian or cyclist at the time of crash                                       |\n",
    "| `pedpedal_action`          | Action of pedestrian or cyclist at the time of crash                                         |\n",
    "| `injury_classification`    | Severity of injury person sustained in the crash                                             |\n",
    "| `hospital`                 | Hospital to which person injured in the crash was taken                                      |\n",
    "| `ems_run_no`               | EMS agency run number                                                                        |\n",
    "| `ems_agency`               | EMS agency who transported person injured in crash to the hospital                           |\n",
    "| `ejection`                 | Whether vehicle occupant was ejected or extricated from the vehicle as a result of crash     |\n",
    "| `drivers_license_state`    | State issuing driver's license of person involved in crash                                   |\n",
    "| `drivers_license_class`    | Class of driver's license of person involved in crash                                        |\n",
    "| `driver_vision`            | What, if any, objects obscured the driver’s vision at time of crash                          |\n",
    "| `driver_action`            | Driver action that contributed to the crash, as determined by reporting officer              |\n",
    "| `crash_record_id`          | This number can be used to link to the same crash in the Crashes and Vehicles datasets.      |\n",
    "| `crash_date`               | Date and time of crash as entered by the reporting officer                                   |\n",
    "| `city`                     | City of residence of person involved in crash                                                |\n",
    "| `cell_phone_use`           | Whether person was/was not using cellphone at the time of the crash, as determined by the officer|\n",
    "| `bac_result_value`         | Driver’s blood alcohol concentration test result (fatal crashes may include pedestrian results)|\n",
    "| `bac_result`               | Status of blood alcohol concentration testing for driver or other person involved in crash   |\n",
    "| `airbag_deployed`          | Whether vehicle occupant airbag deployed as result of crash                                  |\n",
    "| `age`                      | Age of person involved in crash                                                              |\n"
   ]
  },
  {
   "cell_type": "markdown",
   "metadata": {},
   "source": [
    "## <span style=\"color:red\">1. EXPLORATORY DATA ANALYSIS (EDA)</span> <a class=\"anchor\" id=\"eighth-bullet\"></a>\n",
    "In the EDA section, we explored the various features in the data, clean and tranform some of the features.\n",
    "### <span style=\"color:red\">1.1 DATA UNDERSTANDING</span> <a class=\"anchor\" id=\"ninth-bullet\"></a>"
   ]
  },
  {
   "cell_type": "code",
   "execution_count": 3,
   "metadata": {},
   "outputs": [],
   "source": [
    "# Import relevant Python modules\n",
    "import pandas as pd\n",
    "import numpy as np\n",
    "import matplotlib.pyplot as plt\n",
    "import seaborn as sns\n",
    "%matplotlib inline\n",
    "\n",
    "import warnings\n",
    "warnings.filterwarnings(\"ignore\")\n",
    "\n",
    "from sklearn.model_selection import train_test_split, GridSearchCV, cross_validate\n",
    "from sklearn.model_selection import cross_val_predict, cross_val_score, RepeatedStratifiedKFold\n",
    "from sklearn.pipeline import Pipeline\n",
    "from imblearn.over_sampling import SMOTE\n",
    "\n",
    "# Classification Models\n",
    "from sklearn.linear_model import LogisticRegression\n",
    "from sklearn.tree import DecisionTreeClassifier\n",
    "from sklearn.dummy import DummyClassifier\n",
    "from sklearn.metrics import confusion_matrix, accuracy_score, f1_score, precision_score, recall_score\n",
    "from sklearn.metrics import ConfusionMatrixDisplay, classification_report\n",
    "from sklearn.metrics import roc_curve, auc, roc_auc_score\n",
    "\n",
    "# Scalers\n",
    "from sklearn.impute import SimpleImputer\n",
    "\n",
    "from sklearn.preprocessing import StandardScaler, LabelBinarizer, label_binarize\n",
    "\n",
    "from sklearn.preprocessing import OneHotEncoder"
   ]
  },
  {
   "cell_type": "markdown",
   "metadata": {},
   "source": []
  }
 ],
 "metadata": {
  "kernelspec": {
   "display_name": "Python (learn-env)",
   "language": "python",
   "name": "learn-env"
  },
  "language_info": {
   "codemirror_mode": {
    "name": "ipython",
    "version": 3
   },
   "file_extension": ".py",
   "mimetype": "text/x-python",
   "name": "python",
   "nbconvert_exporter": "python",
   "pygments_lexer": "ipython3",
   "version": "3.8.5"
  }
 },
 "nbformat": 4,
 "nbformat_minor": 2
}
